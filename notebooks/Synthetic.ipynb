{
 "cells": [
  {
   "cell_type": "code",
   "execution_count": 1,
   "id": "e4420fc7",
   "metadata": {},
   "outputs": [],
   "source": [
    "## Imports and get_param\n",
    "\n",
    "import os\n",
    "import sys\n",
    "\n",
    "import h5py\n",
    "import torch\n",
    "from torch import optim\n",
    "import numpy as np\n",
    "from tqdm.notebook import trange, tqdm\n",
    "import matplotlib.pyplot as plt\n",
    "\n",
    "sys.path.append(os.path.abspath(os.path.join('..')))\n",
    "\n",
    "from src.models.AngularCentralGauss_torch import AngularCentralGaussian as ACG\n",
    "from src.models.Watson_torch import Watson\n",
    "from src.models.MixtureModel_torch import TorchMixtureModel\n",
    "from src.models.HMM_torch import HiddenMarkovModel as HMM\n",
    "from src.various.training import train_hmm\n",
    "\n",
    "def get_param(model, show=True):\n",
    "    para = model.get_model_param()\n",
    "    \n",
    "    if show:\n",
    "        for p_k in para:\n",
    "            print(p_k)\n",
    "            print(para[p_k])\n",
    "            print(10*'---')\n",
    "    \n",
    "    return para"
   ]
  },
  {
   "cell_type": "markdown",
   "id": "c7efcb76",
   "metadata": {},
   "source": [
    "## Load data and get correct shape and dtype"
   ]
  },
  {
   "cell_type": "code",
   "execution_count": 2,
   "id": "bffc277a",
   "metadata": {},
   "outputs": [
    {
     "name": "stdout",
     "output_type": "stream",
     "text": [
      "torch.Size([1, 2880, 3])\n",
      "torch.float32\n",
      "tensor([[1., 1., 1.,  ..., 1., 1., 1.]])\n"
     ]
    }
   ],
   "source": [
    "synth_dataset = '../data/synthetic/HMMdata.h5'\n",
    "dataf = h5py.File(synth_dataset, mode='r')\n",
    "data = torch.tensor(np.array(dataf['X']))\n",
    "data = torch.unsqueeze(torch.transpose(data,dim0=0,dim1=1),dim=0).float()\n",
    "print(data.shape) #needs to be subjects, time, dims\n",
    "print(data.dtype)\n",
    "print(torch.norm(data,dim=2))"
   ]
  },
  {
   "cell_type": "markdown",
   "id": "49c37fa8",
   "metadata": {},
   "source": [
    "## Initialize model"
   ]
  },
  {
   "cell_type": "code",
   "execution_count": 3,
   "id": "89ba08ba",
   "metadata": {
    "scrolled": true
   },
   "outputs": [
    {
     "name": "stdout",
     "output_type": "stream",
     "text": [
      "un_norm_priors\n",
      "tensor([0.0245, 0.7697])\n",
      "------------------------------\n",
      "un_norm_Transition_matrix\n",
      "tensor([[0.5557, 0.8359],\n",
      "        [0.1512, 0.1691]])\n",
      "------------------------------\n",
      "emission_model_0\n",
      "tensor([[   1.8984,  -16.0107,   -1.9029],\n",
      "        [ -16.0107, 1280.1000,  -39.6540],\n",
      "        [  -1.9029,  -39.6540,    7.6826]])\n",
      "------------------------------\n",
      "emission_model_1\n",
      "tensor([[0.8263, 0.1592, 0.8476],\n",
      "        [0.1592, 0.2948, 1.2112],\n",
      "        [0.8476, 1.2112, 8.8422]])\n",
      "------------------------------\n"
     ]
    }
   ],
   "source": [
    "model = HMM(num_states=2, emission_dist=ACG,observation_dim=3)\n",
    "_ = get_param(model)"
   ]
  },
  {
   "cell_type": "markdown",
   "id": "cef4ad7f",
   "metadata": {},
   "source": [
    "## train model with diff learning rates, get best model "
   ]
  },
  {
   "cell_type": "code",
   "execution_count": 10,
   "id": "91cf5d6e",
   "metadata": {},
   "outputs": [
    {
     "data": {
      "application/vnd.jupyter.widget-view+json": {
       "model_id": "949c2b03cff745f881e11ad392e8d440",
       "version_major": 2,
       "version_minor": 0
      },
      "text/plain": [
       "  0%|          | 0/9 [00:00<?, ?it/s]"
      ]
     },
     "metadata": {},
     "output_type": "display_data"
    },
    {
     "data": {
      "application/vnd.jupyter.widget-view+json": {
       "model_id": "",
       "version_major": 2,
       "version_minor": 0
      },
      "text/plain": [
       "  0%|          | 0/100 [00:00<?, ?it/s]"
      ]
     },
     "metadata": {},
     "output_type": "display_data"
    },
    {
     "data": {
      "application/vnd.jupyter.widget-view+json": {
       "model_id": "",
       "version_major": 2,
       "version_minor": 0
      },
      "text/plain": [
       "  0%|          | 0/100 [00:00<?, ?it/s]"
      ]
     },
     "metadata": {},
     "output_type": "display_data"
    },
    {
     "data": {
      "application/vnd.jupyter.widget-view+json": {
       "model_id": "",
       "version_major": 2,
       "version_minor": 0
      },
      "text/plain": [
       "  0%|          | 0/100 [00:00<?, ?it/s]"
      ]
     },
     "metadata": {},
     "output_type": "display_data"
    },
    {
     "data": {
      "application/vnd.jupyter.widget-view+json": {
       "model_id": "",
       "version_major": 2,
       "version_minor": 0
      },
      "text/plain": [
       "  0%|          | 0/100 [00:00<?, ?it/s]"
      ]
     },
     "metadata": {},
     "output_type": "display_data"
    },
    {
     "data": {
      "application/vnd.jupyter.widget-view+json": {
       "model_id": "",
       "version_major": 2,
       "version_minor": 0
      },
      "text/plain": [
       "  0%|          | 0/100 [00:00<?, ?it/s]"
      ]
     },
     "metadata": {},
     "output_type": "display_data"
    },
    {
     "data": {
      "application/vnd.jupyter.widget-view+json": {
       "model_id": "",
       "version_major": 2,
       "version_minor": 0
      },
      "text/plain": [
       "  0%|          | 0/100 [00:00<?, ?it/s]"
      ]
     },
     "metadata": {},
     "output_type": "display_data"
    },
    {
     "data": {
      "application/vnd.jupyter.widget-view+json": {
       "model_id": "",
       "version_major": 2,
       "version_minor": 0
      },
      "text/plain": [
       "  0%|          | 0/100 [00:00<?, ?it/s]"
      ]
     },
     "metadata": {},
     "output_type": "display_data"
    },
    {
     "data": {
      "application/vnd.jupyter.widget-view+json": {
       "model_id": "",
       "version_major": 2,
       "version_minor": 0
      },
      "text/plain": [
       "  0%|          | 0/100 [00:00<?, ?it/s]"
      ]
     },
     "metadata": {},
     "output_type": "display_data"
    },
    {
     "data": {
      "application/vnd.jupyter.widget-view+json": {
       "model_id": "",
       "version_major": 2,
       "version_minor": 0
      },
      "text/plain": [
       "  0%|          | 0/100 [00:00<?, ?it/s]"
      ]
     },
     "metadata": {},
     "output_type": "display_data"
    }
   ],
   "source": [
    "hmm_eval_LR = np.arange(0.1, 1, 0.1)\n",
    "#hmm_eval_LR = [0.01,0.1]\n",
    "int_epoch = 100\n",
    "acg_hmm_LR_results = np.zeros((len(hmm_eval_LR),int_epoch))\n",
    "best_like = 400000.\n",
    "for idx, LR in enumerate(tqdm(hmm_eval_LR)):\n",
    "    #model = HMM(num_states=2, observation_dim=3, emission_dist=ACG) #New init of model\n",
    "    model = TorchMixtureModel(distribution_object=Watson,K=2, dist_dim=3) #New init of model\n",
    "    Adam_optimizer = optim.Adam(model.parameters(), lr=LR)\n",
    "    likehood = train_hmm(model, data=torch.squeeze(data), optimizer=Adam_optimizer, num_epoch=int_epoch, keep_bar=False)\n",
    "    acg_hmm_LR_results[idx] = likehood\n",
    "    \n",
    "    if likehood[-1] < best_like:\n",
    "        best_model = model\n",
    "        best_like = likehood[-1]\n",
    "        best_idx = idx\n",
    "        \n",
    "    acg_hmm_LR_results[idx] = likehood"
   ]
  },
  {
   "cell_type": "markdown",
   "id": "d8122d77",
   "metadata": {},
   "source": [
    "## plot of learning rates"
   ]
  },
  {
   "cell_type": "code",
   "execution_count": 11,
   "id": "ce7fe152",
   "metadata": {},
   "outputs": [
    {
     "name": "stdout",
     "output_type": "stream",
     "text": [
      "0\n",
      "4128.44970703125\n"
     ]
    },
    {
     "data": {
      "image/png": "[encoded data removed]",
      "text/plain": [
       "<Figure size 900x400 with 1 Axes>"
      ]
     },
     "metadata": {},
     "output_type": "display_data"
    }
   ],
   "source": [
    "print(best_idx)\n",
    "print(acg_hmm_LR_results[best_idx,-1])\n",
    "\n",
    "plt.close()\n",
    "%matplotlib inline\n",
    "plt.figure(figsize=(9, 4))\n",
    "plt.plot(acg_hmm_LR_results.T)\n",
    "plt.title('Learning rate - ACG - Synthetic3D - HMM')\n",
    "plt.xlabel('Epochs')\n",
    "plt.ylabel('Log-Likelihood')\n",
    "plt.legend(np.round(hmm_eval_LR, 3), ncol=1, bbox_to_anchor=(1.01, 1.05), loc='upper left', borderaxespad=0.)\n",
    "plt.grid()\n",
    "plt.show()"
   ]
  },
  {
   "cell_type": "markdown",
   "id": "ad1a5906",
   "metadata": {},
   "source": [
    "## extract parameters from the best model (should be pi=0.5)"
   ]
  },
  {
   "cell_type": "code",
   "execution_count": 12,
   "id": "a23bff4a",
   "metadata": {},
   "outputs": [
    {
     "name": "stdout",
     "output_type": "stream",
     "text": [
      "un_norm_pi\n",
      "tensor([ 0.9407, -1.0398])\n",
      "------------------------------\n",
      "mix_comp_0\n",
      "{'mu': tensor([0.0953, 0.6978, 0.7099]), 'kappa': tensor([5.0048])}\n",
      "------------------------------\n",
      "mix_comp_1\n",
      "{'mu': tensor([0.5667, 0.5848, 0.5804]), 'kappa': tensor([9.9425])}\n",
      "------------------------------\n"
     ]
    }
   ],
   "source": [
    "acgbest_param = get_param(best_model)\n",
    "#learned_sigma = torch.stack([acgbest_param[f'emission_model_{idx}'] for idx in range(best_model.N)])\n",
    "#learned_pi = acgbest_param['un_norm_priors']\n",
    "#learned_pi = torch.nn.functional.softmax(learned_pi,dim=0)\n",
    "#print(learned_pi)"
   ]
  },
  {
   "cell_type": "markdown",
   "id": "503a5e4a",
   "metadata": {},
   "source": [
    "## Get emission probs and un viterbi decoding on best model"
   ]
  },
  {
   "cell_type": "code",
   "execution_count": null,
   "id": "1f27ed35",
   "metadata": {},
   "outputs": [],
   "source": [
    "best_paths, paths_probs, emission_probs = best_model.viterbi2(data)\n",
    "np.savetxt('../data/synthetic/emissionprobs_ACG.csv', emission_probs, delimiter=',')\n",
    "np.savetxt('../data/synthetic/best_path_ACG.csv', best_paths, delimiter=',')"
   ]
  }
 ],
 "metadata": {
  "kernelspec": {
   "display_name": "Python 3 (ipykernel)",
   "language": "python",
   "name": "python3"
  },
  "language_info": {
   "codemirror_mode": {
    "name": "ipython",
    "version": 3
   },
   "file_extension": ".py",
   "mimetype": "text/x-python",
   "name": "python",
   "nbconvert_exporter": "python",
   "pygments_lexer": "ipython3",
   "version": "3.10.8"
  }
 },
 "nbformat": 4,
 "nbformat_minor": 5
}
