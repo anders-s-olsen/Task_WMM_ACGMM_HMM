{
 "cells": [
  {
   "cell_type": "code",
   "execution_count": 1,
   "id": "e4420fc7",
   "metadata": {},
   "outputs": [],
   "source": [
    "## Imports and get_param\n",
    "\n",
    "import os\n",
    "import sys\n",
    "\n",
    "import h5py\n",
    "import torch\n",
    "from torch import optim\n",
    "import numpy as np\n",
    "from tqdm.notebook import trange, tqdm\n",
    "import matplotlib.pyplot as plt\n",
    "\n",
    "sys.path.append(os.path.abspath(os.path.join('..')))\n",
    "\n",
    "from src.models.AngularCentralGauss_torch import AngularCentralGaussian as ACG\n",
    "from src.models.Watson_torch import Watson\n",
    "from src.models.MixtureModel_torch import TorchMixtureModel\n",
    "from src.models.HMM_torch import HiddenMarkovModel as HMM\n",
    "from src.various.training import train_hmm\n",
    "\n",
    "def get_param(model, show=True):\n",
    "    para = model.get_model_param()\n",
    "    \n",
    "    if show:\n",
    "        for p_k in para:\n",
    "            print(p_k)\n",
    "            print(para[p_k])\n",
    "            print(10*'---')\n",
    "    \n",
    "    return para"
   ]
  },
  {
   "cell_type": "markdown",
   "id": "c7efcb76",
   "metadata": {},
   "source": [
    "## Load data and get correct shape and dtype"
   ]
  },
  {
   "cell_type": "code",
   "execution_count": 2,
   "id": "bffc277a",
   "metadata": {},
   "outputs": [
    {
     "name": "stdout",
     "output_type": "stream",
     "text": [
      "torch.Size([1, 2880, 3])\n",
      "torch.float32\n",
      "tensor([[1., 1., 1.,  ..., 1., 1., 1.]])\n"
     ]
    }
   ],
   "source": [
    "synth_dataset = '../data/synthetic/HMMdata.h5'\n",
    "dataf = h5py.File(synth_dataset, mode='r')\n",
    "data = torch.tensor(np.array(dataf['X']))\n",
    "data = torch.unsqueeze(torch.transpose(data,dim0=0,dim1=1),dim=0).float()\n",
    "print(data.shape) #needs to be subjects, time, dims\n",
    "print(data.dtype)\n",
    "print(torch.norm(data,dim=2))"
   ]
  },
  {
   "cell_type": "markdown",
   "id": "cef4ad7f",
   "metadata": {},
   "source": [
    "## mixtures with learned LRs\n",
    "train model with diff learning rates, get best model "
   ]
  },
  {
   "cell_type": "code",
   "execution_count": 3,
   "id": "91cf5d6e",
   "metadata": {},
   "outputs": [
    {
     "data": {
      "application/vnd.jupyter.widget-view+json": {
       "model_id": "f55c86c20f6847858043684ceb8517a4",
       "version_major": 2,
       "version_minor": 0
      },
      "text/plain": [
       "  0%|          | 0/9 [00:00<?, ?it/s]"
      ]
     },
     "metadata": {},
     "output_type": "display_data"
    },
    {
     "name": "stderr",
     "output_type": "stream",
     "text": [
      "\n",
      "  0%|                                                                                          | 0/100 [00:00<?, ?it/s]\u001b[A\n",
      "  1%|▊                                                                                 | 1/100 [00:01<01:47,  1.09s/it]\u001b[A\n",
      "  2%|█▋                                                                                | 2/100 [00:02<01:49,  1.12s/it]\u001b[A\n",
      "  3%|██▍                                                                               | 3/100 [00:03<01:48,  1.12s/it]\u001b[A\n",
      "  4%|███▎                                                                              | 4/100 [00:04<01:42,  1.07s/it]\u001b[A\n",
      "  5%|████                                                                              | 5/100 [00:05<01:39,  1.05s/it]\u001b[A\n",
      "  6%|████▉                                                                             | 6/100 [00:06<01:40,  1.07s/it]\u001b[A\n",
      "  7%|█████▋                                                                            | 7/100 [00:07<01:38,  1.06s/it]\u001b[A\n",
      "  8%|██████▌                                                                           | 8/100 [00:08<01:39,  1.08s/it]\u001b[A\n",
      "  9%|███████▍                                                                          | 9/100 [00:09<01:36,  1.06s/it]\u001b[A\n",
      " 10%|████████                                                                         | 10/100 [00:10<01:36,  1.07s/it]\u001b[A\n",
      " 11%|████████▉                                                                        | 11/100 [00:11<01:34,  1.06s/it]\u001b[A\n",
      " 12%|█████████▋                                                                       | 12/100 [00:12<01:22,  1.06it/s]\u001b[A\n",
      " 13%|██████████▌                                                                      | 13/100 [00:13<01:21,  1.07it/s]\u001b[A\n",
      " 14%|███████████▎                                                                     | 14/100 [00:14<01:19,  1.08it/s]\u001b[A\n",
      " 15%|████████████▏                                                                    | 15/100 [00:15<01:23,  1.02it/s]\u001b[A\n",
      " 16%|████████████▉                                                                    | 16/100 [00:16<01:25,  1.02s/it]\u001b[A\n",
      " 17%|█████████████▊                                                                   | 17/100 [00:17<01:21,  1.01it/s]\u001b[A\n",
      "                                                                                                                       \u001b[A"
     ]
    },
    {
     "ename": "KeyboardInterrupt",
     "evalue": "",
     "output_type": "error",
     "traceback": [
      "\u001b[1;31m---------------------------------------------------------------------------\u001b[0m",
      "\u001b[1;31mKeyboardInterrupt\u001b[0m                         Traceback (most recent call last)",
      "Cell \u001b[1;32mIn[3], line 24\u001b[0m\n\u001b[0;32m     15\u001b[0m \u001b[38;5;66;03m#ACG_MM_optimizer = optim.Adam(ACG_MM.parameters(), lr=LR)\u001b[39;00m\n\u001b[0;32m     16\u001b[0m \u001b[38;5;66;03m#ACG_MM_ll = train_hmm(ACG_MM, data=torch.squeeze(data), optimizer=ACG_MM_optimizer, num_epoch=int_epoch, keep_bar=False)\u001b[39;00m\n\u001b[0;32m     17\u001b[0m \u001b[38;5;66;03m#acg_mm_LR_results[idx] = ACG_MM_ll\u001b[39;00m\n\u001b[1;32m   (...)\u001b[0m\n\u001b[0;32m     20\u001b[0m \u001b[38;5;66;03m#ACG_HMM_ll = train_hmm(ACG_HMM, data=data, optimizer=ACG_HMM_optimizer, num_epoch=int_epoch, keep_bar=False)\u001b[39;00m\n\u001b[0;32m     21\u001b[0m \u001b[38;5;66;03m#acg_hmm_LR_results[idx] = ACG_HMM_ll\u001b[39;00m\n\u001b[0;32m     23\u001b[0m Watson_MM_optimizer \u001b[38;5;241m=\u001b[39m optim\u001b[38;5;241m.\u001b[39mAdam(Watson_MM\u001b[38;5;241m.\u001b[39mparameters(), lr\u001b[38;5;241m=\u001b[39mLR)\n\u001b[1;32m---> 24\u001b[0m Watson_MM_ll \u001b[38;5;241m=\u001b[39m \u001b[43mtrain_hmm\u001b[49m\u001b[43m(\u001b[49m\u001b[43mWatson_MM\u001b[49m\u001b[43m,\u001b[49m\u001b[43m \u001b[49m\u001b[43mdata\u001b[49m\u001b[38;5;241;43m=\u001b[39;49m\u001b[43mtorch\u001b[49m\u001b[38;5;241;43m.\u001b[39;49m\u001b[43msqueeze\u001b[49m\u001b[43m(\u001b[49m\u001b[43mdata\u001b[49m\u001b[43m)\u001b[49m\u001b[43m,\u001b[49m\u001b[43m \u001b[49m\u001b[43moptimizer\u001b[49m\u001b[38;5;241;43m=\u001b[39;49m\u001b[43mWatson_MM_optimizer\u001b[49m\u001b[43m,\u001b[49m\u001b[43m \u001b[49m\u001b[43mnum_epoch\u001b[49m\u001b[38;5;241;43m=\u001b[39;49m\u001b[43mint_epoch\u001b[49m\u001b[43m,\u001b[49m\u001b[43m \u001b[49m\u001b[43mkeep_bar\u001b[49m\u001b[38;5;241;43m=\u001b[39;49m\u001b[38;5;28;43;01mFalse\u001b[39;49;00m\u001b[43m)\u001b[49m\n\u001b[0;32m     25\u001b[0m watson_mm_LR_results[idx] \u001b[38;5;241m=\u001b[39m Watson_MM_ll\n\u001b[0;32m     27\u001b[0m Watson_HMM_optimizer \u001b[38;5;241m=\u001b[39m optim\u001b[38;5;241m.\u001b[39mAdam(Watson_HMM\u001b[38;5;241m.\u001b[39mparameters(), lr\u001b[38;5;241m=\u001b[39mLR)\n",
      "File \u001b[1;32m~\\OneDrive\\OneDrive - Danmarks Tekniske Universitet\\Dokumenter\\PhD\\taskWMMACGHMM\\taskWMMACGMMHMM\\src\\various\\training.py:67\u001b[0m, in \u001b[0;36mtrain_hmm\u001b[1;34m(HMM, data, optimizer, num_epoch, keep_bar)\u001b[0m\n\u001b[0;32m     63\u001b[0m \u001b[38;5;28;01mfor\u001b[39;00m epoch \u001b[38;5;129;01min\u001b[39;00m tqdm(\u001b[38;5;28mrange\u001b[39m(num_epoch), leave\u001b[38;5;241m=\u001b[39mkeep_bar):\n\u001b[0;32m     65\u001b[0m     subject_leida_vectors \u001b[38;5;241m=\u001b[39m data\u001b[38;5;241m.\u001b[39mto(device)\n\u001b[1;32m---> 67\u001b[0m     NegativeLogLikelihood \u001b[38;5;241m=\u001b[39m \u001b[38;5;241m-\u001b[39m\u001b[43mmodel\u001b[49m\u001b[43m(\u001b[49m\u001b[43msubject_leida_vectors\u001b[49m\u001b[43m)\u001b[49m  \u001b[38;5;66;03m# OBS! Negative\u001b[39;00m\n\u001b[0;32m     69\u001b[0m     optimizer\u001b[38;5;241m.\u001b[39mzero_grad()\n\u001b[0;32m     70\u001b[0m     NegativeLogLikelihood\u001b[38;5;241m.\u001b[39mbackward()\n",
      "File \u001b[1;32m~\\Anaconda3\\envs\\task\\lib\\site-packages\\torch\\nn\\modules\\module.py:1194\u001b[0m, in \u001b[0;36mModule._call_impl\u001b[1;34m(self, *input, **kwargs)\u001b[0m\n\u001b[0;32m   1190\u001b[0m \u001b[38;5;66;03m# If we don't have any hooks, we want to skip the rest of the logic in\u001b[39;00m\n\u001b[0;32m   1191\u001b[0m \u001b[38;5;66;03m# this function, and just call forward.\u001b[39;00m\n\u001b[0;32m   1192\u001b[0m \u001b[38;5;28;01mif\u001b[39;00m \u001b[38;5;129;01mnot\u001b[39;00m (\u001b[38;5;28mself\u001b[39m\u001b[38;5;241m.\u001b[39m_backward_hooks \u001b[38;5;129;01mor\u001b[39;00m \u001b[38;5;28mself\u001b[39m\u001b[38;5;241m.\u001b[39m_forward_hooks \u001b[38;5;129;01mor\u001b[39;00m \u001b[38;5;28mself\u001b[39m\u001b[38;5;241m.\u001b[39m_forward_pre_hooks \u001b[38;5;129;01mor\u001b[39;00m _global_backward_hooks\n\u001b[0;32m   1193\u001b[0m         \u001b[38;5;129;01mor\u001b[39;00m _global_forward_hooks \u001b[38;5;129;01mor\u001b[39;00m _global_forward_pre_hooks):\n\u001b[1;32m-> 1194\u001b[0m     \u001b[38;5;28;01mreturn\u001b[39;00m forward_call(\u001b[38;5;241m*\u001b[39m\u001b[38;5;28minput\u001b[39m, \u001b[38;5;241m*\u001b[39m\u001b[38;5;241m*\u001b[39mkwargs)\n\u001b[0;32m   1195\u001b[0m \u001b[38;5;66;03m# Do not call functions when jit is used\u001b[39;00m\n\u001b[0;32m   1196\u001b[0m full_backward_hooks, non_full_backward_hooks \u001b[38;5;241m=\u001b[39m [], []\n",
      "File \u001b[1;32m~\\OneDrive\\OneDrive - Danmarks Tekniske Universitet\\Dokumenter\\PhD\\taskWMMACGHMM\\taskWMMACGMMHMM\\src\\models\\MixtureModel_torch.py:39\u001b[0m, in \u001b[0;36mTorchMixtureModel.forward\u001b[1;34m(self, X)\u001b[0m\n\u001b[0;32m     38\u001b[0m \u001b[38;5;28;01mdef\u001b[39;00m \u001b[38;5;21mforward\u001b[39m(\u001b[38;5;28mself\u001b[39m, X):\n\u001b[1;32m---> 39\u001b[0m     \u001b[38;5;28;01mreturn\u001b[39;00m \u001b[38;5;28;43mself\u001b[39;49m\u001b[38;5;241;43m.\u001b[39;49m\u001b[43mlog_likelihood_mixture\u001b[49m\u001b[43m(\u001b[49m\u001b[43mX\u001b[49m\u001b[43m)\u001b[49m\n",
      "File \u001b[1;32m~\\OneDrive\\OneDrive - Danmarks Tekniske Universitet\\Dokumenter\\PhD\\taskWMMACGHMM\\taskWMMACGMMHMM\\src\\models\\MixtureModel_torch.py:26\u001b[0m, in \u001b[0;36mTorchMixtureModel.log_likelihood_mixture\u001b[1;34m(self, X)\u001b[0m\n\u001b[0;32m     24\u001b[0m \u001b[38;5;28;01mdef\u001b[39;00m \u001b[38;5;21mlog_likelihood_mixture\u001b[39m(\u001b[38;5;28mself\u001b[39m, X):\n\u001b[0;32m     25\u001b[0m     inner_pi \u001b[38;5;241m=\u001b[39m \u001b[38;5;28mself\u001b[39m\u001b[38;5;241m.\u001b[39mLogSoftMax(\u001b[38;5;28mself\u001b[39m\u001b[38;5;241m.\u001b[39msoftplus(\u001b[38;5;28mself\u001b[39m\u001b[38;5;241m.\u001b[39mpi))[:, \u001b[38;5;28;01mNone\u001b[39;00m]\n\u001b[1;32m---> 26\u001b[0m     inner_pdf \u001b[38;5;241m=\u001b[39m torch\u001b[38;5;241m.\u001b[39mstack([K_comp_pdf(X) \u001b[38;5;28;01mfor\u001b[39;00m K_comp_pdf \u001b[38;5;129;01min\u001b[39;00m \u001b[38;5;28mself\u001b[39m\u001b[38;5;241m.\u001b[39mmix_components])\n\u001b[0;32m     28\u001b[0m     inner \u001b[38;5;241m=\u001b[39m inner_pi \u001b[38;5;241m+\u001b[39m inner_pdf\n\u001b[0;32m     29\u001b[0m     \u001b[38;5;66;03m# print(torch.exp(inner))\u001b[39;00m\n",
      "File \u001b[1;32m~\\OneDrive\\OneDrive - Danmarks Tekniske Universitet\\Dokumenter\\PhD\\taskWMMACGHMM\\taskWMMACGMMHMM\\src\\models\\MixtureModel_torch.py:26\u001b[0m, in \u001b[0;36m<listcomp>\u001b[1;34m(.0)\u001b[0m\n\u001b[0;32m     24\u001b[0m \u001b[38;5;28;01mdef\u001b[39;00m \u001b[38;5;21mlog_likelihood_mixture\u001b[39m(\u001b[38;5;28mself\u001b[39m, X):\n\u001b[0;32m     25\u001b[0m     inner_pi \u001b[38;5;241m=\u001b[39m \u001b[38;5;28mself\u001b[39m\u001b[38;5;241m.\u001b[39mLogSoftMax(\u001b[38;5;28mself\u001b[39m\u001b[38;5;241m.\u001b[39msoftplus(\u001b[38;5;28mself\u001b[39m\u001b[38;5;241m.\u001b[39mpi))[:, \u001b[38;5;28;01mNone\u001b[39;00m]\n\u001b[1;32m---> 26\u001b[0m     inner_pdf \u001b[38;5;241m=\u001b[39m torch\u001b[38;5;241m.\u001b[39mstack([\u001b[43mK_comp_pdf\u001b[49m\u001b[43m(\u001b[49m\u001b[43mX\u001b[49m\u001b[43m)\u001b[49m \u001b[38;5;28;01mfor\u001b[39;00m K_comp_pdf \u001b[38;5;129;01min\u001b[39;00m \u001b[38;5;28mself\u001b[39m\u001b[38;5;241m.\u001b[39mmix_components])\n\u001b[0;32m     28\u001b[0m     inner \u001b[38;5;241m=\u001b[39m inner_pi \u001b[38;5;241m+\u001b[39m inner_pdf\n\u001b[0;32m     29\u001b[0m     \u001b[38;5;66;03m# print(torch.exp(inner))\u001b[39;00m\n",
      "File \u001b[1;32m~\\Anaconda3\\envs\\task\\lib\\site-packages\\torch\\nn\\modules\\module.py:1194\u001b[0m, in \u001b[0;36mModule._call_impl\u001b[1;34m(self, *input, **kwargs)\u001b[0m\n\u001b[0;32m   1190\u001b[0m \u001b[38;5;66;03m# If we don't have any hooks, we want to skip the rest of the logic in\u001b[39;00m\n\u001b[0;32m   1191\u001b[0m \u001b[38;5;66;03m# this function, and just call forward.\u001b[39;00m\n\u001b[0;32m   1192\u001b[0m \u001b[38;5;28;01mif\u001b[39;00m \u001b[38;5;129;01mnot\u001b[39;00m (\u001b[38;5;28mself\u001b[39m\u001b[38;5;241m.\u001b[39m_backward_hooks \u001b[38;5;129;01mor\u001b[39;00m \u001b[38;5;28mself\u001b[39m\u001b[38;5;241m.\u001b[39m_forward_hooks \u001b[38;5;129;01mor\u001b[39;00m \u001b[38;5;28mself\u001b[39m\u001b[38;5;241m.\u001b[39m_forward_pre_hooks \u001b[38;5;129;01mor\u001b[39;00m _global_backward_hooks\n\u001b[0;32m   1193\u001b[0m         \u001b[38;5;129;01mor\u001b[39;00m _global_forward_hooks \u001b[38;5;129;01mor\u001b[39;00m _global_forward_pre_hooks):\n\u001b[1;32m-> 1194\u001b[0m     \u001b[38;5;28;01mreturn\u001b[39;00m forward_call(\u001b[38;5;241m*\u001b[39m\u001b[38;5;28minput\u001b[39m, \u001b[38;5;241m*\u001b[39m\u001b[38;5;241m*\u001b[39mkwargs)\n\u001b[0;32m   1195\u001b[0m \u001b[38;5;66;03m# Do not call functions when jit is used\u001b[39;00m\n\u001b[0;32m   1196\u001b[0m full_backward_hooks, non_full_backward_hooks \u001b[38;5;241m=\u001b[39m [], []\n",
      "File \u001b[1;32m~\\OneDrive\\OneDrive - Danmarks Tekniske Universitet\\Dokumenter\\PhD\\taskWMMACGHMM\\taskWMMACGMMHMM\\src\\models\\Watson_torch.py:93\u001b[0m, in \u001b[0;36mWatson.forward\u001b[1;34m(self, X)\u001b[0m\n\u001b[0;32m     92\u001b[0m \u001b[38;5;28;01mdef\u001b[39;00m \u001b[38;5;21mforward\u001b[39m(\u001b[38;5;28mself\u001b[39m, X):\n\u001b[1;32m---> 93\u001b[0m     \u001b[38;5;28;01mreturn\u001b[39;00m \u001b[38;5;28;43mself\u001b[39;49m\u001b[38;5;241;43m.\u001b[39;49m\u001b[43mlog_pdf\u001b[49m\u001b[43m(\u001b[49m\u001b[43mX\u001b[49m\u001b[43m)\u001b[49m\n",
      "File \u001b[1;32m~\\OneDrive\\OneDrive - Danmarks Tekniske Universitet\\Dokumenter\\PhD\\taskWMMACGHMM\\taskWMMACGMMHMM\\src\\models\\Watson_torch.py:82\u001b[0m, in \u001b[0;36mWatson.log_pdf\u001b[1;34m(self, X)\u001b[0m\n\u001b[0;32m     79\u001b[0m     kappa_positive \u001b[38;5;241m+\u001b[39m\u001b[38;5;241m=\u001b[39m \u001b[38;5;241m1e-15\u001b[39m\n\u001b[0;32m     81\u001b[0m \u001b[38;5;28;01mwith\u001b[39;00m torch\u001b[38;5;241m.\u001b[39mno_grad():\n\u001b[1;32m---> 82\u001b[0m     norm_constant \u001b[38;5;241m=\u001b[39m \u001b[38;5;28;43mself\u001b[39;49m\u001b[38;5;241;43m.\u001b[39;49m\u001b[43mlog_norm_constant\u001b[49m\u001b[43m(\u001b[49m\u001b[43mkappa_positive\u001b[49m\u001b[43m)\u001b[49m\u001b[38;5;241m.\u001b[39mto(\u001b[38;5;28mself\u001b[39m\u001b[38;5;241m.\u001b[39mdevice)\n\u001b[0;32m     83\u001b[0m logpdf \u001b[38;5;241m=\u001b[39m norm_constant \u001b[38;5;241m+\u001b[39m kappa_positive \u001b[38;5;241m*\u001b[39m ((mu_unit \u001b[38;5;241m@\u001b[39m X\u001b[38;5;241m.\u001b[39mT) \u001b[38;5;241m*\u001b[39m\u001b[38;5;241m*\u001b[39m \u001b[38;5;241m2\u001b[39m)\n\u001b[0;32m     85\u001b[0m \u001b[38;5;28;01mif\u001b[39;00m torch\u001b[38;5;241m.\u001b[39misnan(logpdf\u001b[38;5;241m.\u001b[39msum()):\n",
      "File \u001b[1;32m~\\OneDrive\\OneDrive - Danmarks Tekniske Universitet\\Dokumenter\\PhD\\taskWMMACGHMM\\taskWMMACGMMHMM\\src\\models\\Watson_torch.py:67\u001b[0m, in \u001b[0;36mWatson.log_norm_constant\u001b[1;34m(self, kappa_pos)\u001b[0m\n\u001b[0;32m     66\u001b[0m \u001b[38;5;28;01mdef\u001b[39;00m \u001b[38;5;21mlog_norm_constant\u001b[39m(\u001b[38;5;28mself\u001b[39m, kappa_pos):\n\u001b[1;32m---> 67\u001b[0m     logC \u001b[38;5;241m=\u001b[39m \u001b[38;5;28mself\u001b[39m\u001b[38;5;241m.\u001b[39mlog_sphere_surface() \u001b[38;5;241m-\u001b[39m \u001b[38;5;28;43mself\u001b[39;49m\u001b[38;5;241;43m.\u001b[39;49m\u001b[43mlog_kummer_anders\u001b[49m\u001b[43m(\u001b[49m\u001b[38;5;28;43mself\u001b[39;49m\u001b[38;5;241;43m.\u001b[39;49m\u001b[43mconst_a\u001b[49m\u001b[43m,\u001b[49m\u001b[43m \u001b[49m\u001b[38;5;28;43mself\u001b[39;49m\u001b[38;5;241;43m.\u001b[39;49m\u001b[43mc\u001b[49m\u001b[43m,\u001b[49m\u001b[43m \u001b[49m\u001b[43mkappa_pos\u001b[49m\u001b[43m)\u001b[49m\n\u001b[0;32m     68\u001b[0m     \u001b[38;5;28;01mreturn\u001b[39;00m logC\n",
      "File \u001b[1;32m~\\OneDrive\\OneDrive - Danmarks Tekniske Universitet\\Dokumenter\\PhD\\taskWMMACGHMM\\taskWMMACGMMHMM\\src\\models\\Watson_torch.py:44\u001b[0m, in \u001b[0;36mWatson.log_kummer_anders\u001b[1;34m(self, a, b, kappa)\u001b[0m\n\u001b[0;32m     42\u001b[0m \u001b[38;5;28;01mwhile\u001b[39;00m torch\u001b[38;5;241m.\u001b[39mabs(logkum\u001b[38;5;241m-\u001b[39mlogkum_old)\u001b[38;5;241m>\u001b[39mtol \u001b[38;5;129;01mand\u001b[39;00m j\u001b[38;5;241m<\u001b[39mmax_iter:\n\u001b[0;32m     43\u001b[0m     logkum_old \u001b[38;5;241m=\u001b[39m logkum\n\u001b[1;32m---> 44\u001b[0m     foo \u001b[38;5;241m=\u001b[39m foo \u001b[38;5;241m+\u001b[39m \u001b[43mtorch\u001b[49m\u001b[38;5;241;43m.\u001b[39;49m\u001b[43mlog\u001b[49m\u001b[43m(\u001b[49m\u001b[43m(\u001b[49m\u001b[43ma\u001b[49m\u001b[38;5;241;43m+\u001b[39;49m\u001b[43mj\u001b[49m\u001b[38;5;241;43m-\u001b[39;49m\u001b[38;5;241;43m1\u001b[39;49m\u001b[43m)\u001b[49m\u001b[38;5;241;43m/\u001b[39;49m\u001b[43m(\u001b[49m\u001b[43mj\u001b[49m\u001b[38;5;241;43m*\u001b[39;49m\u001b[43m(\u001b[49m\u001b[43mb\u001b[49m\u001b[38;5;241;43m+\u001b[39;49m\u001b[43mj\u001b[49m\u001b[38;5;241;43m-\u001b[39;49m\u001b[38;5;241;43m1\u001b[39;49m\u001b[43m)\u001b[49m\u001b[43m)\u001b[49m\u001b[38;5;241;43m*\u001b[39;49m\u001b[43mkappa\u001b[49m\u001b[43m)\u001b[49m\n\u001b[0;32m     45\u001b[0m     logkum \u001b[38;5;241m=\u001b[39m \u001b[38;5;28mself\u001b[39m\u001b[38;5;241m.\u001b[39mlog_sum(logkum,foo)\n\u001b[0;32m     46\u001b[0m     j\u001b[38;5;241m+\u001b[39m\u001b[38;5;241m=\u001b[39m\u001b[38;5;241m1\u001b[39m\n",
      "\u001b[1;31mKeyboardInterrupt\u001b[0m: "
     ]
    }
   ],
   "source": [
    "eval_LR = np.arange(0.1, 1, 0.1)\n",
    "int_epoch = 100\n",
    "acg_mm_LR_results = np.zeros((len(eval_LR),int_epoch))\n",
    "acg_hmm_LR_results = np.zeros((len(eval_LR),int_epoch))\n",
    "watson_mm_LR_results = np.zeros((len(eval_LR),int_epoch))\n",
    "watson_hmm_LR_results = np.zeros((len(eval_LR),int_epoch))\n",
    "\n",
    "for idx, LR in enumerate(tqdm(eval_LR)):\n",
    "    #\n",
    "    #ACG_MM = TorchMixtureModel(distribution_object=ACG,K=2, dist_dim=3)\n",
    "    #ACG_HMM = HMM(num_states=2, observation_dim=3, emission_dist=ACG)\n",
    "    Watson_MM = TorchMixtureModel(distribution_object=Watson,K=2, dist_dim=3)\n",
    "    Watson_HMM = HMM(num_states=2, observation_dim=3, emission_dist=Watson)\n",
    "    \n",
    "    #ACG_MM_optimizer = optim.Adam(ACG_MM.parameters(), lr=LR)\n",
    "    #ACG_MM_ll = train_hmm(ACG_MM, data=torch.squeeze(data), optimizer=ACG_MM_optimizer, num_epoch=int_epoch, keep_bar=False)\n",
    "    #acg_mm_LR_results[idx] = ACG_MM_ll\n",
    "    \n",
    "    #ACG_HMM_optimizer = optim.Adam(ACG_HMM.parameters(), lr=LR)\n",
    "    #ACG_HMM_ll = train_hmm(ACG_HMM, data=data, optimizer=ACG_HMM_optimizer, num_epoch=int_epoch, keep_bar=False)\n",
    "    #acg_hmm_LR_results[idx] = ACG_HMM_ll\n",
    "    \n",
    "    Watson_MM_optimizer = optim.Adam(Watson_MM.parameters(), lr=LR)\n",
    "    Watson_MM_ll = train_hmm(Watson_MM, data=torch.squeeze(data), optimizer=Watson_MM_optimizer, num_epoch=int_epoch, keep_bar=False)\n",
    "    watson_mm_LR_results[idx] = Watson_MM_ll\n",
    "    \n",
    "    Watson_HMM_optimizer = optim.Adam(Watson_HMM.parameters(), lr=LR)\n",
    "    Watson_HMM_ll = train_hmm(Watson_HMM, data=data, optimizer=Watson_HMM_optimizer, num_epoch=int_epoch, keep_bar=False)\n",
    "    watson_hmm_LR_results[idx] = Watson_HMM_ll\n",
    "    "
   ]
  },
  {
   "cell_type": "markdown",
   "id": "d8122d77",
   "metadata": {},
   "source": [
    "## plot of learning rates"
   ]
  },
  {
   "cell_type": "code",
   "execution_count": null,
   "id": "ce7fe152",
   "metadata": {},
   "outputs": [],
   "source": [
    "plt.close()\n",
    "%matplotlib inline\n",
    "fig, axs = plt.subplots(2, 2,figsize=(15, 15))\n",
    "\n",
    "for ax in axs:\n",
    "    axs[ax].xlabel('Epochs')\n",
    "    axs[ax].ylabel('Log-Likelihood')\n",
    "    axs[ax].legend(np.round(eval_LR, 3), ncol=1, bbox_to_anchor=(1.01, 1.05), loc='upper left', borderaxespad=0.)\n",
    "    axs[ax].grid()\n",
    "\n",
    "\n",
    "axs[0].plot(acg_mm_LR_results.T)\n",
    "axs[0].title('Learning rate - ACG - Synthetic3D - mixture model')\n",
    "\n",
    "axs[0].plot(acg_hmm_LR_results.T)\n",
    "axs[0].title('Learning rate - ACG - Synthetic3D - Hidden Markov Model')\n",
    "\n",
    "axs[0].plot(watson_mm_LR_results.T)\n",
    "axs[0].title('Learning rate - Watson - Synthetic3D - mixture model')\n",
    "\n",
    "axs[0].plot(watson_hmm_LR_results.T)\n",
    "axs[0].title('Learning rate - Watson - Synthetic3D - Hidden Markov Model')\n",
    "\n",
    "plt.savefig('../reports/synthetic_methods/synthetic_LRs.png')"
   ]
  },
  {
   "cell_type": "markdown",
   "id": "dc2bc8a0",
   "metadata": {},
   "source": [
    "## get best models"
   ]
  },
  {
   "cell_type": "code",
   "execution_count": null,
   "id": "a11d8777",
   "metadata": {},
   "outputs": [],
   "source": [
    "#acg_mm_idx = np.argmax(acg_mm_LR_results)\n",
    "#acg_hmm_idx = np.argmax(acg_hmm_LR_results)\n",
    "#watson_mm_idx = np.argmax(watson_mm_LR_results)\n",
    "#watson_hmm_idx = np.argmax(watson_hmm_LR_results)"
   ]
  },
  {
   "cell_type": "markdown",
   "id": "869d0388",
   "metadata": {},
   "source": [
    "## get emission probs and viterbi"
   ]
  },
  {
   "cell_type": "code",
   "execution_count": null,
   "id": "7867d0c5",
   "metadata": {},
   "outputs": [],
   "source": [
    "#best_paths, paths_probs, emission_probs = best_model.viterbi2(data)\n",
    "#np.savetxt('../data/synthetic/emissionprobs_ACG.csv', emission_probs, delimiter=',')\n",
    "#np.savetxt('../data/synthetic/best_path_ACG.csv', best_paths, delimiter=',')"
   ]
  },
  {
   "cell_type": "markdown",
   "id": "ad1a5906",
   "metadata": {},
   "source": [
    "## extract parameters from the best model (should be pi=0.5)"
   ]
  },
  {
   "cell_type": "code",
   "execution_count": null,
   "id": "a23bff4a",
   "metadata": {},
   "outputs": [],
   "source": [
    "#acgbest_param = get_param(best_model)\n",
    "#learned_sigma = torch.stack([acgbest_param[f'emission_model_{idx}'] for idx in range(best_model.N)])\n",
    "#learned_pi = acgbest_param['un_norm_priors']\n",
    "#learned_pi = torch.nn.functional.softmax(learned_pi,dim=0)\n",
    "#print(learned_pi)"
   ]
  }
 ],
 "metadata": {
  "kernelspec": {
   "display_name": "Python 3 (ipykernel)",
   "language": "python",
   "name": "python3"
  },
  "language_info": {
   "codemirror_mode": {
    "name": "ipython",
    "version": 3
   },
   "file_extension": ".py",
   "mimetype": "text/x-python",
   "name": "python",
   "nbconvert_exporter": "python",
   "pygments_lexer": "ipython3",
   "version": "3.10.8"
  },
  "vscode": {
   "interpreter": {
    "hash": "64362275d98f6a968712794ea5942acaa24ddfb3c21e09d9a787a7dab1db880e"
   }
  }
 },
 "nbformat": 4,
 "nbformat_minor": 5
}
