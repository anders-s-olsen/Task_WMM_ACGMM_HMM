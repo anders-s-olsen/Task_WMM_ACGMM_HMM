{
 "cells": [
  {
   "cell_type": "code",
   "execution_count": 1,
   "id": "e4420fc7",
   "metadata": {},
   "outputs": [],
   "source": [
    "## Imports and get_param\n",
    "\n",
    "import os\n",
    "import sys\n",
    "\n",
    "import h5py\n",
    "import torch\n",
    "from torch import optim\n",
    "import numpy as np\n",
    "from tqdm.notebook import trange, tqdm\n",
    "import matplotlib.pyplot as plt\n",
    "\n",
    "sys.path.append(os.path.abspath(os.path.join('..')))\n",
    "\n",
    "from src.models.AngularCentralGauss_torch import AngularCentralGaussian as ACG\n",
    "from src.models.Watson_torch import Watson\n",
    "from src.models.MixtureModel_torch import TorchMixtureModel\n",
    "from src.models.HMM_torch import HiddenMarkovModel as HMM\n",
    "from src.various.training import train_hmm\n",
    "\n",
    "def get_param(model, show=True):\n",
    "    para = model.get_model_param()\n",
    "    \n",
    "    if show:\n",
    "        for p_k in para:\n",
    "            print(p_k)\n",
    "            print(para[p_k])\n",
    "            print(10*'---')\n",
    "    \n",
    "    return para"
   ]
  },
  {
   "cell_type": "markdown",
   "id": "c7efcb76",
   "metadata": {},
   "source": [
    "## Load data and get correct shape and dtype"
   ]
  },
  {
   "cell_type": "code",
   "execution_count": 2,
   "id": "bffc277a",
   "metadata": {},
   "outputs": [
    {
     "name": "stdout",
     "output_type": "stream",
     "text": [
      "torch.Size([1, 2880, 3])\n",
      "torch.float32\n",
      "tensor([[1., 1., 1.,  ..., 1., 1., 1.]])\n"
     ]
    }
   ],
   "source": [
    "synth_dataset = '../data/synthetic/HMMdata.h5'\n",
    "dataf = h5py.File(synth_dataset, mode='r')\n",
    "data = torch.tensor(np.array(dataf['X']))\n",
    "data = torch.unsqueeze(torch.transpose(data,dim0=0,dim1=1),dim=0).float()\n",
    "print(data.shape) #needs to be subjects, time, dims\n",
    "print(data.dtype)\n",
    "print(torch.norm(data,dim=2))"
   ]
  },
  {
   "cell_type": "markdown",
   "id": "cef4ad7f",
   "metadata": {},
   "source": [
    "## ACG mixture\n",
    "train model with diff learning rates, get best model "
   ]
  },
  {
   "cell_type": "code",
   "execution_count": 12,
   "id": "91cf5d6e",
   "metadata": {},
   "outputs": [
    {
     "data": {
      "application/vnd.jupyter.widget-view+json": {
       "model_id": "1e31dc3111d14587a656bb9d139def88",
       "version_major": 2,
       "version_minor": 0
      },
      "text/plain": [
       "  0%|          | 0/9 [00:00<?, ?it/s]"
      ]
     },
     "metadata": {},
     "output_type": "display_data"
    },
    {
     "ename": "TypeError",
     "evalue": "'TorchMixtureModel' object does not support item assignment",
     "output_type": "error",
     "traceback": [
      "\u001b[1;31m---------------------------------------------------------------------------\u001b[0m",
      "\u001b[1;31mTypeError\u001b[0m                                 Traceback (most recent call last)",
      "Cell \u001b[1;32mIn[12], line 10\u001b[0m\n\u001b[0;32m      6\u001b[0m watson_hmm_LR_results \u001b[38;5;241m=\u001b[39m np\u001b[38;5;241m.\u001b[39mzeros((\u001b[38;5;28mlen\u001b[39m(eval_LR),int_epoch))\n\u001b[0;32m      8\u001b[0m \u001b[38;5;28;01mfor\u001b[39;00m idx, LR \u001b[38;5;129;01min\u001b[39;00m \u001b[38;5;28menumerate\u001b[39m(tqdm(eval_LR)):\n\u001b[0;32m      9\u001b[0m     \u001b[38;5;66;03m#\u001b[39;00m\n\u001b[1;32m---> 10\u001b[0m     ACG_MM[idx] \u001b[38;5;241m=\u001b[39m TorchMixtureModel(distribution_object\u001b[38;5;241m=\u001b[39mACG,K\u001b[38;5;241m=\u001b[39m\u001b[38;5;241m2\u001b[39m, dist_dim\u001b[38;5;241m=\u001b[39m\u001b[38;5;241m3\u001b[39m)\n\u001b[0;32m     11\u001b[0m     ACG_HMM \u001b[38;5;241m=\u001b[39m HMM(num_states\u001b[38;5;241m=\u001b[39m\u001b[38;5;241m2\u001b[39m, observation_dim\u001b[38;5;241m=\u001b[39m\u001b[38;5;241m3\u001b[39m, emission_dist\u001b[38;5;241m=\u001b[39mACG)\n\u001b[0;32m     12\u001b[0m     Watson_MM \u001b[38;5;241m=\u001b[39m TorchMixtureModel(distribution_object\u001b[38;5;241m=\u001b[39mWatson,K\u001b[38;5;241m=\u001b[39m\u001b[38;5;241m2\u001b[39m, dist_dim\u001b[38;5;241m=\u001b[39m\u001b[38;5;241m3\u001b[39m)\n",
      "\u001b[1;31mTypeError\u001b[0m: 'TorchMixtureModel' object does not support item assignment"
     ]
    }
   ],
   "source": [
    "eval_LR = np.arange(0.1, 1, 0.1)\n",
    "int_epoch = 100\n",
    "acg_mm_LR_results = np.zeros((len(eval_LR),int_epoch))\n",
    "acg_hmm_LR_results = np.zeros((len(eval_LR),int_epoch))\n",
    "watson_mm_LR_results = np.zeros((len(eval_LR),int_epoch))\n",
    "watson_hmm_LR_results = np.zeros((len(eval_LR),int_epoch))\n",
    "\n",
    "for idx, LR in enumerate(tqdm(eval_LR)):\n",
    "    #\n",
    "    ACG_MM = TorchMixtureModel(distribution_object=ACG,K=2, dist_dim=3)\n",
    "    ACG_HMM = HMM(num_states=2, observation_dim=3, emission_dist=ACG)\n",
    "    Watson_MM = TorchMixtureModel(distribution_object=Watson,K=2, dist_dim=3)\n",
    "    Watson_HMM = HMM(num_states=2, observation_dim=3, emission_dist=Watson)\n",
    "    \n",
    "    Adam_optimizer = optim.Adam(model.parameters(), lr=LR)\n",
    "    \n",
    "    ACG_MM_ll = train_hmm(ACG_MM, data=torch.squeeze(data), optimizer=Adam_optimizer, num_epoch=int_epoch, keep_bar=False)\n",
    "    acg_mm_LR_results[idx] = ACG_MM_ll\n",
    "    \n",
    "    ACG_HMM_ll = train_hmm(ACG_HMM, data=data, optimizer=Adam_optimizer, num_epoch=int_epoch, keep_bar=False)\n",
    "    acg_hmm_LR_results[idx] = ACG_HMM_ll\n",
    "    \n",
    "    Watson_MM_ll = train_hmm(Watson_MM, data=torch.squeeze(data), optimizer=Adam_optimizer, num_epoch=int_epoch, keep_bar=False)\n",
    "    watson_mm_LR_results[idx] = Watson_MM_ll\n",
    "    \n",
    "    Watson_HMM_ll = train_hmm(Watson_HMM, data=data, optimizer=Adam_optimizer, num_epoch=int_epoch, keep_bar=False)\n",
    "    watson_hmm_LR_results[idx] = Watson_HMM_ll\n",
    "    "
   ]
  },
  {
   "cell_type": "markdown",
   "id": "d8122d77",
   "metadata": {},
   "source": [
    "## plot of learning rates"
   ]
  },
  {
   "cell_type": "code",
   "execution_count": 7,
   "id": "ce7fe152",
   "metadata": {},
   "outputs": [
    {
     "ename": "NameError",
     "evalue": "name 'acgmm_LR_results' is not defined",
     "output_type": "error",
     "traceback": [
      "\u001b[1;31m---------------------------------------------------------------------------\u001b[0m",
      "\u001b[1;31mNameError\u001b[0m                                 Traceback (most recent call last)",
      "Cell \u001b[1;32mIn[7], line 6\u001b[0m\n\u001b[0;32m      2\u001b[0m get_ipython()\u001b[38;5;241m.\u001b[39mrun_line_magic(\u001b[38;5;124m'\u001b[39m\u001b[38;5;124mmatplotlib\u001b[39m\u001b[38;5;124m'\u001b[39m, \u001b[38;5;124m'\u001b[39m\u001b[38;5;124minline\u001b[39m\u001b[38;5;124m'\u001b[39m)\n\u001b[0;32m      3\u001b[0m plt\u001b[38;5;241m.\u001b[39mfigure(figsize\u001b[38;5;241m=\u001b[39m(\u001b[38;5;241m9\u001b[39m, \u001b[38;5;241m4\u001b[39m))\n\u001b[1;32m----> 6\u001b[0m plt\u001b[38;5;241m.\u001b[39mplot(\u001b[43macgmm_LR_results\u001b[49m\u001b[38;5;241m.\u001b[39mT)\n\u001b[0;32m      7\u001b[0m plt\u001b[38;5;241m.\u001b[39mtitle(\u001b[38;5;124m'\u001b[39m\u001b[38;5;124mLearning rate - ACG - Synthetic3D - mixture model\u001b[39m\u001b[38;5;124m'\u001b[39m)\n\u001b[0;32m      8\u001b[0m plt\u001b[38;5;241m.\u001b[39mxlabel(\u001b[38;5;124m'\u001b[39m\u001b[38;5;124mEpochs\u001b[39m\u001b[38;5;124m'\u001b[39m)\n",
      "\u001b[1;31mNameError\u001b[0m: name 'acgmm_LR_results' is not defined"
     ]
    },
    {
     "data": {
      "text/plain": [
       "<Figure size 900x400 with 0 Axes>"
      ]
     },
     "metadata": {},
     "output_type": "display_data"
    }
   ],
   "source": [
    "plt.close()\n",
    "%matplotlib inline\n",
    "fig, axs = plt.subplots(2, 2,figsize=(15, 15))\n",
    "\n",
    "for ax in axs:\n",
    "    axs[ax].xlabel('Epochs')\n",
    "    axs[ax].ylabel('Log-Likelihood')\n",
    "    axs[ax].legend(np.round(hmm_eval_LR, 3), ncol=1, bbox_to_anchor=(1.01, 1.05), loc='upper left', borderaxespad=0.)\n",
    "    axs[ax].grid()\n",
    "\n",
    "\n",
    "axs[0].plot(acg_mm_LR_results.T)\n",
    "axs[0].title('Learning rate - ACG - Synthetic3D - mixture model')\n",
    "\n",
    "axs[0].plot(acg_hmm_LR_results.T)\n",
    "axs[0].title('Learning rate - ACG - Synthetic3D - Hidden Markov Model')\n",
    "\n",
    "axs[0].plot(watson_mm_LR_results.T)\n",
    "axs[0].title('Learning rate - Watson - Synthetic3D - mixture model')\n",
    "\n",
    "axs[0].plot(watson_hmm_LR_results.T)\n",
    "axs[0].title('Learning rate - Watson - Synthetic3D - Hidden Markov Model')\n",
    "\n",
    "plt.savefig('../reports/synthetic_methods/synthetic_LRs.png')"
   ]
  },
  {
   "cell_type": "markdown",
   "id": "dc2bc8a0",
   "metadata": {},
   "source": [
    "## get best models"
   ]
  },
  {
   "cell_type": "code",
   "execution_count": 11,
   "id": "a11d8777",
   "metadata": {},
   "outputs": [
    {
     "name": "stdout",
     "output_type": "stream",
     "text": [
      "0\n"
     ]
    }
   ],
   "source": [
    "#acg_mm_idx = np.argmax(acg_mm_LR_results)\n",
    "#acg_hmm_idx = np.argmax(acg_hmm_LR_results)\n",
    "#watson_mm_idx = np.argmax(watson_mm_LR_results)\n",
    "#watson_hmm_idx = np.argmax(watson_hmm_LR_results)"
   ]
  },
  {
   "cell_type": "markdown",
   "id": "869d0388",
   "metadata": {},
   "source": [
    "## get emission probs and viterbi"
   ]
  },
  {
   "cell_type": "code",
   "execution_count": null,
   "id": "7867d0c5",
   "metadata": {},
   "outputs": [],
   "source": [
    "#best_paths, paths_probs, emission_probs = best_model.viterbi2(data)\n",
    "#np.savetxt('../data/synthetic/emissionprobs_ACG.csv', emission_probs, delimiter=',')\n",
    "#np.savetxt('../data/synthetic/best_path_ACG.csv', best_paths, delimiter=',')"
   ]
  },
  {
   "cell_type": "markdown",
   "id": "ad1a5906",
   "metadata": {},
   "source": [
    "## extract parameters from the best model (should be pi=0.5)"
   ]
  },
  {
   "cell_type": "code",
   "execution_count": 12,
   "id": "a23bff4a",
   "metadata": {},
   "outputs": [
    {
     "name": "stdout",
     "output_type": "stream",
     "text": [
      "un_norm_pi\n",
      "tensor([ 0.9407, -1.0398])\n",
      "------------------------------\n",
      "mix_comp_0\n",
      "{'mu': tensor([0.0953, 0.6978, 0.7099]), 'kappa': tensor([5.0048])}\n",
      "------------------------------\n",
      "mix_comp_1\n",
      "{'mu': tensor([0.5667, 0.5848, 0.5804]), 'kappa': tensor([9.9425])}\n",
      "------------------------------\n"
     ]
    }
   ],
   "source": [
    "#acgbest_param = get_param(best_model)\n",
    "#learned_sigma = torch.stack([acgbest_param[f'emission_model_{idx}'] for idx in range(best_model.N)])\n",
    "#learned_pi = acgbest_param['un_norm_priors']\n",
    "#learned_pi = torch.nn.functional.softmax(learned_pi,dim=0)\n",
    "#print(learned_pi)"
   ]
  }
 ],
 "metadata": {
  "kernelspec": {
   "display_name": "Python 3 (ipykernel)",
   "language": "python",
   "name": "python3"
  },
  "language_info": {
   "codemirror_mode": {
    "name": "ipython",
    "version": 3
   },
   "file_extension": ".py",
   "mimetype": "text/x-python",
   "name": "python",
   "nbconvert_exporter": "python",
   "pygments_lexer": "ipython3",
   "version": "3.10.8"
  }
 },
 "nbformat": 4,
 "nbformat_minor": 5
}
