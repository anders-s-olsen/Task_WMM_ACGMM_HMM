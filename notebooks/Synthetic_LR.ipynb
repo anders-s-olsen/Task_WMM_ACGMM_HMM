{
 "cells": [
  {
   "cell_type": "code",
   "execution_count": 5,
   "id": "e4420fc7",
   "metadata": {},
   "outputs": [],
   "source": [
    "## Imports and get_param\n",
    "\n",
    "import os\n",
    "import sys\n",
    "\n",
    "import h5py\n",
    "import torch\n",
    "from torch import optim\n",
    "import numpy as np\n",
    "from tqdm.notebook import trange, tqdm\n",
    "import matplotlib.pyplot as plt\n",
    "\n",
    "sys.path.append(os.path.abspath(os.path.join('..')))\n",
    "\n",
    "from src.models.AngularCentralGauss_torch import AngularCentralGaussian as ACG\n",
    "from src.models.Watson_torch import Watson\n",
    "from src.models.MixtureModel_torch import TorchMixtureModel\n",
    "from src.models.HMM_torch import HiddenMarkovModel as HMM\n",
    "from src.various.training import train_hmm\n",
    "\n",
    "def get_param(model, show=True):\n",
    "    para = model.get_model_param()\n",
    "    \n",
    "    if show:\n",
    "        for p_k in para:\n",
    "            print(p_k)\n",
    "            print(para[p_k])\n",
    "            print(10*'---')\n",
    "    \n",
    "    return para"
   ]
  },
  {
   "cell_type": "markdown",
   "id": "c7efcb76",
   "metadata": {},
   "source": [
    "## Load data and get correct shape and dtype"
   ]
  },
  {
   "cell_type": "code",
   "execution_count": 6,
   "id": "bffc277a",
   "metadata": {},
   "outputs": [
    {
     "name": "stdout",
     "output_type": "stream",
     "text": [
      "torch.Size([1, 2880, 3])\n",
      "torch.float32\n",
      "tensor([[1., 1., 1.,  ..., 1., 1., 1.]])\n"
     ]
    }
   ],
   "source": [
    "synth_dataset = '../data/synthetic/HMMdata.h5'\n",
    "dataf = h5py.File(synth_dataset, mode='r')\n",
    "data = torch.tensor(np.array(dataf['X']))\n",
    "data = torch.unsqueeze(torch.transpose(data,dim0=0,dim1=1),dim=0).float()\n",
    "print(data.shape) #needs to be subjects, time, dims\n",
    "print(data.dtype)\n",
    "print(torch.norm(data,dim=2))"
   ]
  },
  {
   "cell_type": "markdown",
   "id": "cef4ad7f",
   "metadata": {},
   "source": [
    "## ACG mixture\n",
    "train model with diff learning rates, get best model "
   ]
  },
  {
   "cell_type": "code",
   "execution_count": null,
   "id": "91cf5d6e",
   "metadata": {},
   "outputs": [
    {
     "name": "stderr",
     "output_type": "stream",
     "text": [
      "  0%|                                                                                            | 0/1 [00:00<?, ?it/s]"
     ]
    }
   ],
   "source": [
    "best_LR = 0.1\n",
    "int_epoch = 1\n",
    "\n",
    "ACG_MM = TorchMixtureModel(distribution_object=ACG,K=2, dist_dim=3)\n",
    "ACG_HMM = HMM(num_states=2, observation_dim=3, emission_dist=ACG)\n",
    "Watson_MM = TorchMixtureModel(distribution_object=Watson,K=2, dist_dim=3)\n",
    "Watson_HMM = HMM(num_states=2, observation_dim=3, emission_dist=Watson)\n",
    "\n",
    "ACG_MM_optimizer = optim.Adam(ACG_MM.parameters(), lr=best_LR)\n",
    "ACG_MM_ll = train_hmm(ACG_MM, data=torch.squeeze(data), optimizer=ACG_MM_optimizer, num_epoch=int_epoch, keep_bar=False)\n",
    "\n",
    "ACG_HMM_optimizer = optim.Adam(ACG_HMM.parameters(), lr=best_LR)\n",
    "ACG_HMM_ll = train_hmm(ACG_HMM, data=data, optimizer=ACG_HMM_optimizer, num_epoch=int_epoch, keep_bar=False)\n",
    "\n",
    "Watson_MM_optimizer = optim.Adam(Watson_MM.parameters(), lr=best_LR)\n",
    "Watson_MM_ll = train_hmm(Watson_MM, data=torch.squeeze(data), optimizer=Watson_MM_optimizer, num_epoch=int_epoch, keep_bar=False)\n",
    "\n",
    "Watson_HMM_optimizer = optim.Adam(Watson_HMM.parameters(), lr=best_LR)\n",
    "Watson_HMM_ll = train_hmm(Watson_HMM, data=data, optimizer=Watson_HMM_optimizer, num_epoch=int_epoch, keep_bar=False)\n"
   ]
  },
  {
   "cell_type": "markdown",
   "id": "dc2bc8a0",
   "metadata": {},
   "source": [
    "## get best models"
   ]
  },
  {
   "cell_type": "code",
   "execution_count": 11,
   "id": "a11d8777",
   "metadata": {},
   "outputs": [
    {
     "name": "stdout",
     "output_type": "stream",
     "text": [
      "0\n"
     ]
    }
   ],
   "source": [
    "#acg_mm_idx = np.argmax(acg_mm_LR_results)\n",
    "#acg_hmm_idx = np.argmax(acg_hmm_LR_results)\n",
    "#watson_mm_idx = np.argmax(watson_mm_LR_results)\n",
    "#watson_hmm_idx = np.argmax(watson_hmm_LR_results)"
   ]
  },
  {
   "cell_type": "markdown",
   "id": "869d0388",
   "metadata": {},
   "source": [
    "## get emission probs and viterbi"
   ]
  },
  {
   "cell_type": "code",
   "execution_count": null,
   "id": "7867d0c5",
   "metadata": {},
   "outputs": [],
   "source": [
    "#best_paths, paths_probs, emission_probs = best_model.viterbi2(data)\n",
    "#np.savetxt('../data/synthetic/emissionprobs_ACG.csv', emission_probs, delimiter=',')\n",
    "#np.savetxt('../data/synthetic/best_path_ACG.csv', best_paths, delimiter=',')"
   ]
  },
  {
   "cell_type": "markdown",
   "id": "ad1a5906",
   "metadata": {},
   "source": [
    "## extract parameters from the best model (should be pi=0.5)"
   ]
  },
  {
   "cell_type": "code",
   "execution_count": 12,
   "id": "a23bff4a",
   "metadata": {},
   "outputs": [
    {
     "name": "stdout",
     "output_type": "stream",
     "text": [
      "un_norm_pi\n",
      "tensor([ 0.9407, -1.0398])\n",
      "------------------------------\n",
      "mix_comp_0\n",
      "{'mu': tensor([0.0953, 0.6978, 0.7099]), 'kappa': tensor([5.0048])}\n",
      "------------------------------\n",
      "mix_comp_1\n",
      "{'mu': tensor([0.5667, 0.5848, 0.5804]), 'kappa': tensor([9.9425])}\n",
      "------------------------------\n"
     ]
    }
   ],
   "source": [
    "#acgbest_param = get_param(best_model)\n",
    "#learned_sigma = torch.stack([acgbest_param[f'emission_model_{idx}'] for idx in range(best_model.N)])\n",
    "#learned_pi = acgbest_param['un_norm_priors']\n",
    "#learned_pi = torch.nn.functional.softmax(learned_pi,dim=0)\n",
    "#print(learned_pi)"
   ]
  }
 ],
 "metadata": {
  "kernelspec": {
   "display_name": "Python 3 (ipykernel)",
   "language": "python",
   "name": "python3"
  },
  "language_info": {
   "codemirror_mode": {
    "name": "ipython",
    "version": 3
   },
   "file_extension": ".py",
   "mimetype": "text/x-python",
   "name": "python",
   "nbconvert_exporter": "python",
   "pygments_lexer": "ipython3",
   "version": "3.10.8"
  },
  "vscode": {
   "interpreter": {
    "hash": "64362275d98f6a968712794ea5942acaa24ddfb3c21e09d9a787a7dab1db880e"
   }
  }
 },
 "nbformat": 4,
 "nbformat_minor": 5
}
