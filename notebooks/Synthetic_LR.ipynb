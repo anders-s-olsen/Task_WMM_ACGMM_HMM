{
 "cells": [
  {
   "cell_type": "code",
   "execution_count": 5,
   "id": "e4420fc7",
   "metadata": {},
   "outputs": [],
   "source": [
    "## Imports and get_param\n",
    "\n",
    "import os\n",
    "import sys\n",
    "\n",
    "import h5py\n",
    "import torch\n",
    "from torch import optim\n",
    "import numpy as np\n",
    "from tqdm.notebook import trange, tqdm\n",
    "import matplotlib.pyplot as plt\n",
    "\n",
    "sys.path.append(os.path.abspath(os.path.join('..')))\n",
    "\n",
    "from src.models.AngularCentralGauss_torch import AngularCentralGaussian as ACG\n",
    "from src.models.Watson_torch import Watson\n",
    "from src.models.MixtureModel_torch import TorchMixtureModel\n",
    "from src.models.HMM_torch import HiddenMarkovModel as HMM\n",
    "from src.various.training import train_hmm\n",
    "\n",
    "def get_param(model, show=True):\n",
    "    para = model.get_model_param()\n",
    "    \n",
    "    if show:\n",
    "        for p_k in para:\n",
    "            print(p_k)\n",
    "            print(para[p_k])\n",
    "            print(10*'---')\n",
    "    \n",
    "    return para"
   ]
  },
  {
   "cell_type": "markdown",
   "id": "c7efcb76",
   "metadata": {},
   "source": [
    "## Load data and get correct shape and dtype"
   ]
  },
  {
   "cell_type": "code",
   "execution_count": 6,
   "id": "bffc277a",
   "metadata": {},
   "outputs": [
    {
     "name": "stdout",
     "output_type": "stream",
     "text": [
      "torch.Size([1, 2880, 3])\n",
      "torch.float32\n",
      "tensor([[1., 1., 1.,  ..., 1., 1., 1.]])\n"
     ]
    }
   ],
   "source": [
    "synth_dataset = '../data/synthetic/HMMdata.h5'\n",
    "dataf = h5py.File(synth_dataset, mode='r')\n",
    "data = torch.tensor(np.array(dataf['X']))\n",
    "data = torch.unsqueeze(torch.transpose(data,dim0=0,dim1=1),dim=0).float()\n",
    "print(data.shape) #needs to be subjects, time, dims\n",
    "print(data.dtype)\n",
    "print(torch.norm(data,dim=2))"
   ]
  },
  {
   "cell_type": "markdown",
   "id": "cef4ad7f",
   "metadata": {},
   "source": [
    "## ACG mixture\n",
    "train model with diff learning rates, get best model "
   ]
  },
  {
   "cell_type": "code",
   "execution_count": 7,
   "id": "91cf5d6e",
   "metadata": {},
   "outputs": [
    {
     "name": "stderr",
     "output_type": "stream",
     "text": [
      "                                                                                                                       \r"
     ]
    },
    {
     "ename": "RuntimeError",
     "evalue": "bad allocation",
     "output_type": "error",
     "traceback": [
      "\u001b[1;31m---------------------------------------------------------------------------\u001b[0m",
      "\u001b[1;31mRuntimeError\u001b[0m                              Traceback (most recent call last)",
      "Cell \u001b[1;32mIn[7], line 19\u001b[0m\n\u001b[0;32m     16\u001b[0m Watson_MM_ll \u001b[38;5;241m=\u001b[39m train_hmm(Watson_MM, data\u001b[38;5;241m=\u001b[39mtorch\u001b[38;5;241m.\u001b[39msqueeze(data), optimizer\u001b[38;5;241m=\u001b[39mWatson_MM_optimizer, num_epoch\u001b[38;5;241m=\u001b[39mint_epoch, keep_bar\u001b[38;5;241m=\u001b[39m\u001b[38;5;28;01mFalse\u001b[39;00m)\n\u001b[0;32m     18\u001b[0m Watson_HMM_optimizer \u001b[38;5;241m=\u001b[39m optim\u001b[38;5;241m.\u001b[39mAdam(Watson_HMM\u001b[38;5;241m.\u001b[39mparameters(), lr\u001b[38;5;241m=\u001b[39mbest_LR)\n\u001b[1;32m---> 19\u001b[0m Watson_HMM_ll \u001b[38;5;241m=\u001b[39m \u001b[43mtrain_hmm\u001b[49m\u001b[43m(\u001b[49m\u001b[43mWatson_HMM\u001b[49m\u001b[43m,\u001b[49m\u001b[43m \u001b[49m\u001b[43mdata\u001b[49m\u001b[38;5;241;43m=\u001b[39;49m\u001b[43mdata\u001b[49m\u001b[43m,\u001b[49m\u001b[43m \u001b[49m\u001b[43moptimizer\u001b[49m\u001b[38;5;241;43m=\u001b[39;49m\u001b[43mWatson_HMM_optimizer\u001b[49m\u001b[43m,\u001b[49m\u001b[43m \u001b[49m\u001b[43mnum_epoch\u001b[49m\u001b[38;5;241;43m=\u001b[39;49m\u001b[43mint_epoch\u001b[49m\u001b[43m,\u001b[49m\u001b[43m \u001b[49m\u001b[43mkeep_bar\u001b[49m\u001b[38;5;241;43m=\u001b[39;49m\u001b[38;5;28;43;01mFalse\u001b[39;49;00m\u001b[43m)\u001b[49m\n",
      "File \u001b[1;32m~\\OneDrive\\OneDrive - Danmarks Tekniske Universitet\\Dokumenter\\PhD\\taskWMMACGHMM\\taskWMMACGMMHMM\\src\\various\\training.py:67\u001b[0m, in \u001b[0;36mtrain_hmm\u001b[1;34m(HMM, data, optimizer, num_epoch, keep_bar)\u001b[0m\n\u001b[0;32m     63\u001b[0m \u001b[38;5;28;01mfor\u001b[39;00m epoch \u001b[38;5;129;01min\u001b[39;00m tqdm(\u001b[38;5;28mrange\u001b[39m(num_epoch), leave\u001b[38;5;241m=\u001b[39mkeep_bar):\n\u001b[0;32m     65\u001b[0m     subject_leida_vectors \u001b[38;5;241m=\u001b[39m data\u001b[38;5;241m.\u001b[39mto(device)\n\u001b[1;32m---> 67\u001b[0m     NegativeLogLikelihood \u001b[38;5;241m=\u001b[39m \u001b[38;5;241m-\u001b[39m\u001b[43mmodel\u001b[49m\u001b[43m(\u001b[49m\u001b[43msubject_leida_vectors\u001b[49m\u001b[43m)\u001b[49m  \u001b[38;5;66;03m# OBS! Negative\u001b[39;00m\n\u001b[0;32m     69\u001b[0m     optimizer\u001b[38;5;241m.\u001b[39mzero_grad()\n\u001b[0;32m     70\u001b[0m     NegativeLogLikelihood\u001b[38;5;241m.\u001b[39mbackward()\n",
      "File \u001b[1;32m~\\Anaconda3\\envs\\task\\lib\\site-packages\\torch\\nn\\modules\\module.py:1194\u001b[0m, in \u001b[0;36mModule._call_impl\u001b[1;34m(self, *input, **kwargs)\u001b[0m\n\u001b[0;32m   1190\u001b[0m \u001b[38;5;66;03m# If we don't have any hooks, we want to skip the rest of the logic in\u001b[39;00m\n\u001b[0;32m   1191\u001b[0m \u001b[38;5;66;03m# this function, and just call forward.\u001b[39;00m\n\u001b[0;32m   1192\u001b[0m \u001b[38;5;28;01mif\u001b[39;00m \u001b[38;5;129;01mnot\u001b[39;00m (\u001b[38;5;28mself\u001b[39m\u001b[38;5;241m.\u001b[39m_backward_hooks \u001b[38;5;129;01mor\u001b[39;00m \u001b[38;5;28mself\u001b[39m\u001b[38;5;241m.\u001b[39m_forward_hooks \u001b[38;5;129;01mor\u001b[39;00m \u001b[38;5;28mself\u001b[39m\u001b[38;5;241m.\u001b[39m_forward_pre_hooks \u001b[38;5;129;01mor\u001b[39;00m _global_backward_hooks\n\u001b[0;32m   1193\u001b[0m         \u001b[38;5;129;01mor\u001b[39;00m _global_forward_hooks \u001b[38;5;129;01mor\u001b[39;00m _global_forward_pre_hooks):\n\u001b[1;32m-> 1194\u001b[0m     \u001b[38;5;28;01mreturn\u001b[39;00m forward_call(\u001b[38;5;241m*\u001b[39m\u001b[38;5;28minput\u001b[39m, \u001b[38;5;241m*\u001b[39m\u001b[38;5;241m*\u001b[39mkwargs)\n\u001b[0;32m   1195\u001b[0m \u001b[38;5;66;03m# Do not call functions when jit is used\u001b[39;00m\n\u001b[0;32m   1196\u001b[0m full_backward_hooks, non_full_backward_hooks \u001b[38;5;241m=\u001b[39m [], []\n",
      "File \u001b[1;32m~\\OneDrive\\OneDrive - Danmarks Tekniske Universitet\\Dokumenter\\PhD\\taskWMMACGHMM\\taskWMMACGMMHMM\\src\\models\\HMM_torch.py:61\u001b[0m, in \u001b[0;36mHiddenMarkovModel.forward\u001b[1;34m(self, X)\u001b[0m\n\u001b[0;32m     57\u001b[0m \u001b[38;5;66;03m# Induction 2)\u001b[39;00m\n\u001b[0;32m     58\u001b[0m \u001b[38;5;66;03m# for time:  t = 1 -> seq_max\u001b[39;00m\n\u001b[0;32m     60\u001b[0m \u001b[38;5;28;01mfor\u001b[39;00m t \u001b[38;5;129;01min\u001b[39;00m \u001b[38;5;28mrange\u001b[39m(\u001b[38;5;241m1\u001b[39m, seq_max):\n\u001b[1;32m---> 61\u001b[0m     log_alpha[:, t, :] \u001b[38;5;241m=\u001b[39m \u001b[38;5;28;43mself\u001b[39;49m\u001b[38;5;241;43m.\u001b[39;49m\u001b[43memission_models_forward\u001b[49m\u001b[43m(\u001b[49m\u001b[43mX\u001b[49m\u001b[43m[\u001b[49m\u001b[43m:\u001b[49m\u001b[43m,\u001b[49m\u001b[43m \u001b[49m\u001b[43mt\u001b[49m\u001b[43m,\u001b[49m\u001b[43m \u001b[49m\u001b[43m:\u001b[49m\u001b[43m]\u001b[49m\u001b[43m)\u001b[49m\u001b[38;5;241m.\u001b[39mT \\\n\u001b[0;32m     62\u001b[0m                          \u001b[38;5;241m+\u001b[39m torch\u001b[38;5;241m.\u001b[39mlogsumexp(log_alpha[:, t \u001b[38;5;241m-\u001b[39m \u001b[38;5;241m1\u001b[39m, :, \u001b[38;5;28;01mNone\u001b[39;00m] \u001b[38;5;241m+\u001b[39m log_A, dim\u001b[38;5;241m=\u001b[39m\u001b[38;5;241m1\u001b[39m)\n\u001b[0;32m     64\u001b[0m \u001b[38;5;66;03m# Termination 3)\u001b[39;00m\n\u001b[0;32m     65\u001b[0m \u001b[38;5;66;03m# LogSum for states N for each time t.\u001b[39;00m\n\u001b[0;32m     66\u001b[0m log_t_sums \u001b[38;5;241m=\u001b[39m torch\u001b[38;5;241m.\u001b[39mlogsumexp(log_alpha, dim\u001b[38;5;241m=\u001b[39m\u001b[38;5;241m2\u001b[39m)\n",
      "File \u001b[1;32m~\\OneDrive\\OneDrive - Danmarks Tekniske Universitet\\Dokumenter\\PhD\\taskWMMACGHMM\\taskWMMACGMMHMM\\src\\models\\HMM_torch.py:34\u001b[0m, in \u001b[0;36mHiddenMarkovModel.emission_models_forward\u001b[1;34m(self, X)\u001b[0m\n\u001b[0;32m     33\u001b[0m \u001b[38;5;28;01mdef\u001b[39;00m \u001b[38;5;21memission_models_forward\u001b[39m(\u001b[38;5;28mself\u001b[39m, X):\n\u001b[1;32m---> 34\u001b[0m     \u001b[38;5;28;01mreturn\u001b[39;00m torch\u001b[38;5;241m.\u001b[39mstack([state_emission(X) \u001b[38;5;28;01mfor\u001b[39;00m state_emission \u001b[38;5;129;01min\u001b[39;00m \u001b[38;5;28mself\u001b[39m\u001b[38;5;241m.\u001b[39memission_models])\n",
      "File \u001b[1;32m~\\OneDrive\\OneDrive - Danmarks Tekniske Universitet\\Dokumenter\\PhD\\taskWMMACGHMM\\taskWMMACGMMHMM\\src\\models\\HMM_torch.py:34\u001b[0m, in \u001b[0;36m<listcomp>\u001b[1;34m(.0)\u001b[0m\n\u001b[0;32m     33\u001b[0m \u001b[38;5;28;01mdef\u001b[39;00m \u001b[38;5;21memission_models_forward\u001b[39m(\u001b[38;5;28mself\u001b[39m, X):\n\u001b[1;32m---> 34\u001b[0m     \u001b[38;5;28;01mreturn\u001b[39;00m torch\u001b[38;5;241m.\u001b[39mstack([\u001b[43mstate_emission\u001b[49m\u001b[43m(\u001b[49m\u001b[43mX\u001b[49m\u001b[43m)\u001b[49m \u001b[38;5;28;01mfor\u001b[39;00m state_emission \u001b[38;5;129;01min\u001b[39;00m \u001b[38;5;28mself\u001b[39m\u001b[38;5;241m.\u001b[39memission_models])\n",
      "File \u001b[1;32m~\\Anaconda3\\envs\\task\\lib\\site-packages\\torch\\nn\\modules\\module.py:1194\u001b[0m, in \u001b[0;36mModule._call_impl\u001b[1;34m(self, *input, **kwargs)\u001b[0m\n\u001b[0;32m   1190\u001b[0m \u001b[38;5;66;03m# If we don't have any hooks, we want to skip the rest of the logic in\u001b[39;00m\n\u001b[0;32m   1191\u001b[0m \u001b[38;5;66;03m# this function, and just call forward.\u001b[39;00m\n\u001b[0;32m   1192\u001b[0m \u001b[38;5;28;01mif\u001b[39;00m \u001b[38;5;129;01mnot\u001b[39;00m (\u001b[38;5;28mself\u001b[39m\u001b[38;5;241m.\u001b[39m_backward_hooks \u001b[38;5;129;01mor\u001b[39;00m \u001b[38;5;28mself\u001b[39m\u001b[38;5;241m.\u001b[39m_forward_hooks \u001b[38;5;129;01mor\u001b[39;00m \u001b[38;5;28mself\u001b[39m\u001b[38;5;241m.\u001b[39m_forward_pre_hooks \u001b[38;5;129;01mor\u001b[39;00m _global_backward_hooks\n\u001b[0;32m   1193\u001b[0m         \u001b[38;5;129;01mor\u001b[39;00m _global_forward_hooks \u001b[38;5;129;01mor\u001b[39;00m _global_forward_pre_hooks):\n\u001b[1;32m-> 1194\u001b[0m     \u001b[38;5;28;01mreturn\u001b[39;00m forward_call(\u001b[38;5;241m*\u001b[39m\u001b[38;5;28minput\u001b[39m, \u001b[38;5;241m*\u001b[39m\u001b[38;5;241m*\u001b[39mkwargs)\n\u001b[0;32m   1195\u001b[0m \u001b[38;5;66;03m# Do not call functions when jit is used\u001b[39;00m\n\u001b[0;32m   1196\u001b[0m full_backward_hooks, non_full_backward_hooks \u001b[38;5;241m=\u001b[39m [], []\n",
      "File \u001b[1;32m~\\OneDrive\\OneDrive - Danmarks Tekniske Universitet\\Dokumenter\\PhD\\taskWMMACGHMM\\taskWMMACGMMHMM\\src\\models\\Watson_torch.py:95\u001b[0m, in \u001b[0;36mWatson.forward\u001b[1;34m(self, X)\u001b[0m\n\u001b[0;32m     94\u001b[0m \u001b[38;5;28;01mdef\u001b[39;00m \u001b[38;5;21mforward\u001b[39m(\u001b[38;5;28mself\u001b[39m, X):\n\u001b[1;32m---> 95\u001b[0m     \u001b[38;5;28;01mreturn\u001b[39;00m \u001b[38;5;28;43mself\u001b[39;49m\u001b[38;5;241;43m.\u001b[39;49m\u001b[43mlog_pdf\u001b[49m\u001b[43m(\u001b[49m\u001b[43mX\u001b[49m\u001b[43m)\u001b[49m\n",
      "File \u001b[1;32m~\\OneDrive\\OneDrive - Danmarks Tekniske Universitet\\Dokumenter\\PhD\\taskWMMACGHMM\\taskWMMACGMMHMM\\src\\models\\Watson_torch.py:85\u001b[0m, in \u001b[0;36mWatson.log_pdf\u001b[1;34m(self, X)\u001b[0m\n\u001b[0;32m     81\u001b[0m     \u001b[38;5;28mprint\u001b[39m(\u001b[38;5;124m'\u001b[39m\u001b[38;5;124mCode reached here\u001b[39m\u001b[38;5;124m'\u001b[39m) \u001b[38;5;66;03m# if kappa is zeros\u001b[39;00m\n\u001b[0;32m     82\u001b[0m     kappa_positive \u001b[38;5;241m+\u001b[39m\u001b[38;5;241m=\u001b[39m \u001b[38;5;241m1e-15\u001b[39m\n\u001b[1;32m---> 85\u001b[0m logpdf \u001b[38;5;241m=\u001b[39m \u001b[38;5;28;43mself\u001b[39;49m\u001b[38;5;241;43m.\u001b[39;49m\u001b[43mlog_norm_constant\u001b[49m\u001b[43m(\u001b[49m\u001b[43mkappa_positive\u001b[49m\u001b[43m)\u001b[49m \u001b[38;5;241m+\u001b[39m kappa_positive \u001b[38;5;241m*\u001b[39m ((mu_unit \u001b[38;5;241m@\u001b[39m X\u001b[38;5;241m.\u001b[39mT) \u001b[38;5;241m*\u001b[39m\u001b[38;5;241m*\u001b[39m \u001b[38;5;241m2\u001b[39m)\n\u001b[0;32m     87\u001b[0m \u001b[38;5;28;01mif\u001b[39;00m torch\u001b[38;5;241m.\u001b[39misnan(logpdf\u001b[38;5;241m.\u001b[39msum()):\n\u001b[0;32m     88\u001b[0m     \u001b[38;5;28mprint\u001b[39m(kappa_positive)\n",
      "File \u001b[1;32m~\\OneDrive\\OneDrive - Danmarks Tekniske Universitet\\Dokumenter\\PhD\\taskWMMACGHMM\\taskWMMACGMMHMM\\src\\models\\Watson_torch.py:70\u001b[0m, in \u001b[0;36mWatson.log_norm_constant\u001b[1;34m(self, kappa_pos)\u001b[0m\n\u001b[0;32m     69\u001b[0m \u001b[38;5;28;01mdef\u001b[39;00m \u001b[38;5;21mlog_norm_constant\u001b[39m(\u001b[38;5;28mself\u001b[39m, kappa_pos):\n\u001b[1;32m---> 70\u001b[0m     logC \u001b[38;5;241m=\u001b[39m \u001b[38;5;28mself\u001b[39m\u001b[38;5;241m.\u001b[39mlog_sphere_surface() \u001b[38;5;241m-\u001b[39m \u001b[38;5;28;43mself\u001b[39;49m\u001b[38;5;241;43m.\u001b[39;49m\u001b[43mlog_kummer_anders\u001b[49m\u001b[43m(\u001b[49m\u001b[38;5;28;43mself\u001b[39;49m\u001b[38;5;241;43m.\u001b[39;49m\u001b[43mconst_a\u001b[49m\u001b[43m,\u001b[49m\u001b[43m \u001b[49m\u001b[38;5;28;43mself\u001b[39;49m\u001b[38;5;241;43m.\u001b[39;49m\u001b[43mc\u001b[49m\u001b[43m,\u001b[49m\u001b[43m \u001b[49m\u001b[43mkappa_pos\u001b[49m\u001b[43m)\u001b[49m\n\u001b[0;32m     71\u001b[0m     \u001b[38;5;28;01mreturn\u001b[39;00m logC\n",
      "File \u001b[1;32m~\\OneDrive\\OneDrive - Danmarks Tekniske Universitet\\Dokumenter\\PhD\\taskWMMACGHMM\\taskWMMACGMMHMM\\src\\models\\Watson_torch.py:48\u001b[0m, in \u001b[0;36mWatson.log_kummer_anders\u001b[1;34m(self, a, b, kappa)\u001b[0m\n\u001b[0;32m     46\u001b[0m     foo \u001b[38;5;241m=\u001b[39m foo \u001b[38;5;241m+\u001b[39m torch\u001b[38;5;241m.\u001b[39mlog((a\u001b[38;5;241m+\u001b[39mj\u001b[38;5;241m-\u001b[39mone)\u001b[38;5;241m/\u001b[39m(j\u001b[38;5;241m*\u001b[39m(b\u001b[38;5;241m+\u001b[39mj\u001b[38;5;241m-\u001b[39mone))\u001b[38;5;241m*\u001b[39mkappa)\n\u001b[0;32m     47\u001b[0m     M \u001b[38;5;241m=\u001b[39m foo\n\u001b[1;32m---> 48\u001b[0m     logkum \u001b[38;5;241m=\u001b[39m \u001b[38;5;28;43mself\u001b[39;49m\u001b[38;5;241;43m.\u001b[39;49m\u001b[43mlog_sum\u001b[49m\u001b[43m(\u001b[49m\u001b[43mlogkum\u001b[49m\u001b[43m,\u001b[49m\u001b[43mfoo\u001b[49m\u001b[43m)\u001b[49m\n\u001b[0;32m     49\u001b[0m     j\u001b[38;5;241m+\u001b[39m\u001b[38;5;241m=\u001b[39m\u001b[38;5;241m1\u001b[39m\n\u001b[0;32m     50\u001b[0m \u001b[38;5;28;01mreturn\u001b[39;00m logkum\n",
      "File \u001b[1;32m~\\OneDrive\\OneDrive - Danmarks Tekniske Universitet\\Dokumenter\\PhD\\taskWMMACGHMM\\taskWMMACGMMHMM\\src\\models\\Watson_torch.py:30\u001b[0m, in \u001b[0;36mWatson.log_sum\u001b[1;34m(self, x, y)\u001b[0m\n\u001b[0;32m     29\u001b[0m \u001b[38;5;28;01mdef\u001b[39;00m \u001b[38;5;21mlog_sum\u001b[39m(\u001b[38;5;28mself\u001b[39m,x,y):\n\u001b[1;32m---> 30\u001b[0m     s \u001b[38;5;241m=\u001b[39m x \u001b[38;5;241m+\u001b[39m torch\u001b[38;5;241m.\u001b[39mlog(\u001b[38;5;241m1\u001b[39m\u001b[38;5;241m+\u001b[39mtorch\u001b[38;5;241m.\u001b[39mexp(\u001b[43my\u001b[49m\u001b[38;5;241;43m-\u001b[39;49m\u001b[43mx\u001b[49m));\n\u001b[0;32m     31\u001b[0m     \u001b[38;5;28;01mreturn\u001b[39;00m s\n",
      "\u001b[1;31mRuntimeError\u001b[0m: bad allocation"
     ]
    }
   ],
   "source": [
    "best_LR = 0.1\n",
    "int_epoch = 1\n",
    "\n",
    "ACG_MM = TorchMixtureModel(distribution_object=ACG,K=2, dist_dim=3)\n",
    "ACG_HMM = HMM(num_states=2, observation_dim=3, emission_dist=ACG)\n",
    "Watson_MM = TorchMixtureModel(distribution_object=Watson,K=2, dist_dim=3)\n",
    "Watson_HMM = HMM(num_states=2, observation_dim=3, emission_dist=Watson)\n",
    "\n",
    "ACG_MM_optimizer = optim.Adam(ACG_MM.parameters(), lr=best_LR)\n",
    "ACG_MM_ll = train_hmm(ACG_MM, data=torch.squeeze(data), optimizer=ACG_MM_optimizer, num_epoch=int_epoch, keep_bar=False)\n",
    "\n",
    "ACG_HMM_optimizer = optim.Adam(ACG_HMM.parameters(), lr=best_LR)\n",
    "ACG_HMM_ll = train_hmm(ACG_HMM, data=data, optimizer=ACG_HMM_optimizer, num_epoch=int_epoch, keep_bar=False)\n",
    "\n",
    "Watson_MM_optimizer = optim.Adam(Watson_MM.parameters(), lr=best_LR)\n",
    "Watson_MM_ll = train_hmm(Watson_MM, data=torch.squeeze(data), optimizer=Watson_MM_optimizer, num_epoch=int_epoch, keep_bar=False)\n",
    "\n",
    "Watson_HMM_optimizer = optim.Adam(Watson_HMM.parameters(), lr=best_LR)\n",
    "Watson_HMM_ll = train_hmm(Watson_HMM, data=data, optimizer=Watson_HMM_optimizer, num_epoch=int_epoch, keep_bar=False)\n"
   ]
  },
  {
   "cell_type": "markdown",
   "id": "dc2bc8a0",
   "metadata": {},
   "source": [
    "## get best models"
   ]
  },
  {
   "cell_type": "code",
   "execution_count": 11,
   "id": "a11d8777",
   "metadata": {},
   "outputs": [
    {
     "name": "stdout",
     "output_type": "stream",
     "text": [
      "0\n"
     ]
    }
   ],
   "source": [
    "#acg_mm_idx = np.argmax(acg_mm_LR_results)\n",
    "#acg_hmm_idx = np.argmax(acg_hmm_LR_results)\n",
    "#watson_mm_idx = np.argmax(watson_mm_LR_results)\n",
    "#watson_hmm_idx = np.argmax(watson_hmm_LR_results)"
   ]
  },
  {
   "cell_type": "markdown",
   "id": "869d0388",
   "metadata": {},
   "source": [
    "## get emission probs and viterbi"
   ]
  },
  {
   "cell_type": "code",
   "execution_count": null,
   "id": "7867d0c5",
   "metadata": {},
   "outputs": [],
   "source": [
    "#best_paths, paths_probs, emission_probs = best_model.viterbi2(data)\n",
    "#np.savetxt('../data/synthetic/emissionprobs_ACG.csv', emission_probs, delimiter=',')\n",
    "#np.savetxt('../data/synthetic/best_path_ACG.csv', best_paths, delimiter=',')"
   ]
  },
  {
   "cell_type": "markdown",
   "id": "ad1a5906",
   "metadata": {},
   "source": [
    "## extract parameters from the best model (should be pi=0.5)"
   ]
  },
  {
   "cell_type": "code",
   "execution_count": 12,
   "id": "a23bff4a",
   "metadata": {},
   "outputs": [
    {
     "name": "stdout",
     "output_type": "stream",
     "text": [
      "un_norm_pi\n",
      "tensor([ 0.9407, -1.0398])\n",
      "------------------------------\n",
      "mix_comp_0\n",
      "{'mu': tensor([0.0953, 0.6978, 0.7099]), 'kappa': tensor([5.0048])}\n",
      "------------------------------\n",
      "mix_comp_1\n",
      "{'mu': tensor([0.5667, 0.5848, 0.5804]), 'kappa': tensor([9.9425])}\n",
      "------------------------------\n"
     ]
    }
   ],
   "source": [
    "#acgbest_param = get_param(best_model)\n",
    "#learned_sigma = torch.stack([acgbest_param[f'emission_model_{idx}'] for idx in range(best_model.N)])\n",
    "#learned_pi = acgbest_param['un_norm_priors']\n",
    "#learned_pi = torch.nn.functional.softmax(learned_pi,dim=0)\n",
    "#print(learned_pi)"
   ]
  }
 ],
 "metadata": {
  "kernelspec": {
   "display_name": "Python 3 (ipykernel)",
   "language": "python",
   "name": "python3"
  },
  "language_info": {
   "codemirror_mode": {
    "name": "ipython",
    "version": 3
   },
   "file_extension": ".py",
   "mimetype": "text/x-python",
   "name": "python",
   "nbconvert_exporter": "python",
   "pygments_lexer": "ipython3",
   "version": "3.10.8"
  },
  "vscode": {
   "interpreter": {
    "hash": "64362275d98f6a968712794ea5942acaa24ddfb3c21e09d9a787a7dab1db880e"
   }
  }
 },
 "nbformat": 4,
 "nbformat_minor": 5
}
